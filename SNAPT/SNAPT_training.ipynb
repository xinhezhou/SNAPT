{
 "cells": [
  {
   "cell_type": "markdown",
   "metadata": {},
   "source": [
    "Initial game setup. All game logic is in SNAPT_Game.py"
   ]
  },
  {
   "cell_type": "code",
   "execution_count": 1,
   "metadata": {},
   "outputs": [],
   "source": [
    "from SNAPT_Game import SNAPT_Game as SNAPT\n",
    "\n",
    "weights = [[1, 1, 0],\n",
    "         [1, 1, 1],\n",
    "         [0, 1, 1]]\n",
    "\n",
    "machine_attributes = [[1, 0, 0.5, 0, 0],\n",
    "          [0, 0, 0.5, 0, 0],\n",
    "          [0, 1, 0.5, 0, 0]]\n",
    "\n",
    "p1_attributes = [1, 1, 1, 20, 1]\n",
    "p2_attributes = [1, 1, 1, 20, 1]\n",
    "\n",
    "g = SNAPT(weights, machine_attributes, p1_attributes, p2_attributes)\n",
    "board, player = g.getInitBoard()\n",
    "# g.render(board, player)"
   ]
  },
  {
   "cell_type": "markdown",
   "metadata": {},
   "source": [
    "Below is the training procedure for AlphaZero and AlphaZero-ES.\n",
    "- The first cell is imports and the hyperparameters\n",
    "- Second cell is actual training\n",
    "\n",
    "AlphaZero code is modified from  \n",
    "\n",
    "https://github.com/suragnair/alpha-zero-general\n",
    "\n",
    "For original AlphaZero paper, see  \n",
    "\n",
    "https://arxiv.org/abs/1712.01815\n",
    "\n"
   ]
  },
  {
   "cell_type": "code",
   "execution_count": 2,
   "metadata": {},
   "outputs": [],
   "source": [
    "from SNAPT_AZ import *\n",
    "from SNAPT_net import NNetWrapper as nn\n",
    "import time\n",
    "\n",
    "args = dotdict({\n",
    "    'numEps': 5,        # Number of complete self-play games to simulate during a new iteration.\n",
    "    'numMCTSSims': 20,  # Number of games moves for MCTS to simulate.\n",
    "    'cpuct': 1,         # hyperparameter for MCTS\n",
    "    'batch_size' : 8,  # number of samples to take for AZ-ES, N in paper\n",
    "    'elite_size' : 4,  # elite size for AZ-ES, K in paper\n",
    "})"
   ]
  },
  {
   "cell_type": "code",
   "execution_count": 3,
   "metadata": {},
   "outputs": [
    {
     "name": "stdout",
     "output_type": "stream",
     "text": [
      "1\n",
      "35.38284182548523\n",
      "Checkpoint Directory exists! \n"
     ]
    }
   ],
   "source": [
    "def train_AZ(g, nnet, use_gradient = True, t_max = 3600):\n",
    "    \"\"\"\n",
    "    training method for AlphaZero and AlphaZero-ES\n",
    "    g: Game to train on \n",
    "    nnet: neural network to train\n",
    "    grad: If true, train with gradient/traditional AZ, otherwise use AlphaZero-ES\n",
    "    t_max: total training time, 3600 in paper\n",
    "    \"\"\"\n",
    "    \n",
    "    # set up neural network, MCTS, and AlphaZero objects\n",
    "    mcts = MCTS(g, nnet, args)\n",
    "    AZ = AlphaZero(g, nnet, mcts, args)\n",
    "\n",
    "    # training loop\n",
    "    start = time.time()\n",
    "    iterations = 0\n",
    "    \n",
    "    while (time.time() - start) < t_max:\n",
    "        iterations += 1\n",
    "        if use_gradient:\n",
    "            AZ.train_gradient()\n",
    "        else:\n",
    "            AZ.train_es()\n",
    "\n",
    "    # print number of iterations and total training time\n",
    "    print(iterations)\n",
    "    print(time.time() - start)\n",
    "\n",
    "\n",
    "    # save attack and defense neural networks\n",
    "    # they will be stored in folder 'checkpoint'\n",
    "    # don't overwrite what is already there unless you want to train new models\n",
    "    nnet.save_checkpoint(att_filename = 'att_temp.pth.tar', def_filename = 'def_temp.pth.tar')\n",
    "\n",
    "nnet = nn(g)\n",
    "train_AZ(g, nnet, use_gradient = True, t_max = 10)"
   ]
  },
  {
   "cell_type": "markdown",
   "metadata": {},
   "source": [
    "ES methods  \n",
    "\n",
    "Parameters (except for training time) are same as in paper  \n",
    "episode_count is G = 50  \n",
    "batch_size is N = 8  \n",
    "elite_size is K = 4  \n",
    "\n",
    "- first cell is imports\n",
    "- second cell is (1+1)-ES\n",
    "- third cell is CEM\n",
    "\n",
    "models are saved to folder 'checkpoint'"
   ]
  },
  {
   "cell_type": "code",
   "execution_count": 4,
   "metadata": {},
   "outputs": [],
   "source": [
    "from SNAPT_es import *\n",
    "import os\n",
    "\n",
    "# training time\n",
    "t_max = 10"
   ]
  },
  {
   "cell_type": "code",
   "execution_count": 5,
   "metadata": {},
   "outputs": [
    {
     "name": "stdout",
     "output_type": "stream",
     "text": [
      "Finished in 11.0 seconds and 3 iterations\n"
     ]
    }
   ],
   "source": [
    "attacker_mu, defender_mu = oneone(g, iters = 100000000, episode_count = 50, temp = 1, t_max = t_max)\n",
    "\n",
    "attacker_fname= os.path.join('checkpoint', 'att_temp.pth.tar')\n",
    "torch.save(attacker_mu.state_dict(), attacker_fname)\n",
    "\n",
    "defender_fname= os.path.join('checkpoint', 'def_temp.pth.tar')\n",
    "torch.save(defender_mu.state_dict(), defender_fname)"
   ]
  },
  {
   "cell_type": "code",
   "execution_count": 6,
   "metadata": {},
   "outputs": [
    {
     "name": "stdout",
     "output_type": "stream",
     "text": [
      "Finished in 17.0 seconds and 1 iterations\n"
     ]
    }
   ],
   "source": [
    "attacker_mu, defender_mu = cem(g, iters = 100000, batch_size = 8, elite_size = 4, episode_count = 50, weight_type = 'log', temp = 1, t_max = t_max)\n",
    "\n",
    "attacker_fname = os.path.join('checkpoint', 'att_temp.pth.tar')\n",
    "torch.save(attacker_mu.state_dict(), attacker_fname)\n",
    "\n",
    "defender_fname = os.path.join('checkpoint', 'def_temp.pth.tar')\n",
    "torch.save(defender_mu.state_dict(), defender_fname)"
   ]
  },
  {
   "cell_type": "code",
   "execution_count": 7,
   "metadata": {},
   "outputs": [],
   "source": [
    "from SNAPT_a2c import *\n",
    "import os"
   ]
  },
  {
   "cell_type": "code",
   "execution_count": 8,
   "metadata": {},
   "outputs": [
    {
     "ename": "RuntimeError",
     "evalue": "Can't call numpy() on Tensor that requires grad. Use tensor.detach().numpy() instead.",
     "output_type": "error",
     "traceback": [
      "\u001b[0;31m---------------------------------------------------------------------------\u001b[0m",
      "\u001b[0;31mRuntimeError\u001b[0m                              Traceback (most recent call last)",
      "\u001b[0;32m<ipython-input-8-e7bd1320158d>\u001b[0m in \u001b[0;36m<module>\u001b[0;34m\u001b[0m\n\u001b[0;32m----> 1\u001b[0;31m \u001b[0mattacker_ac\u001b[0m\u001b[0;34m,\u001b[0m \u001b[0mdefender_ac\u001b[0m \u001b[0;34m=\u001b[0m \u001b[0ma2c\u001b[0m\u001b[0;34m(\u001b[0m\u001b[0mg\u001b[0m\u001b[0;34m,\u001b[0m \u001b[0miters\u001b[0m \u001b[0;34m=\u001b[0m \u001b[0;36m20000\u001b[0m\u001b[0;34m,\u001b[0m \u001b[0mt_max\u001b[0m \u001b[0;34m=\u001b[0m \u001b[0;36m10\u001b[0m\u001b[0;34m)\u001b[0m\u001b[0;34m\u001b[0m\u001b[0;34m\u001b[0m\u001b[0m\n\u001b[0m\u001b[1;32m      2\u001b[0m \u001b[0;34m\u001b[0m\u001b[0m\n\u001b[1;32m      3\u001b[0m \u001b[0mattacker_fname\u001b[0m \u001b[0;34m=\u001b[0m \u001b[0mos\u001b[0m\u001b[0;34m.\u001b[0m\u001b[0mpath\u001b[0m\u001b[0;34m.\u001b[0m\u001b[0mjoin\u001b[0m\u001b[0;34m(\u001b[0m\u001b[0;34m'checkpoint'\u001b[0m\u001b[0;34m,\u001b[0m \u001b[0;34m'att_temp.pth.tar'\u001b[0m\u001b[0;34m)\u001b[0m\u001b[0;34m\u001b[0m\u001b[0;34m\u001b[0m\u001b[0m\n\u001b[1;32m      4\u001b[0m \u001b[0mtorch\u001b[0m\u001b[0;34m.\u001b[0m\u001b[0msave\u001b[0m\u001b[0;34m(\u001b[0m\u001b[0mattacker_ac\u001b[0m\u001b[0;34m.\u001b[0m\u001b[0mstate_dict\u001b[0m\u001b[0;34m(\u001b[0m\u001b[0;34m)\u001b[0m\u001b[0;34m,\u001b[0m \u001b[0mattacker_fname\u001b[0m\u001b[0;34m)\u001b[0m\u001b[0;34m\u001b[0m\u001b[0;34m\u001b[0m\u001b[0m\n\u001b[1;32m      5\u001b[0m \u001b[0;34m\u001b[0m\u001b[0m\n",
      "\u001b[0;32m~/SNAPT/SNAPT/SNAPT_a2c.py\u001b[0m in \u001b[0;36ma2c\u001b[0;34m(g, iters, t_max, temp)\u001b[0m\n\u001b[1;32m    142\u001b[0m \u001b[0;34m\u001b[0m\u001b[0m\n\u001b[1;32m    143\u001b[0m         \u001b[0;31m# compute Q values\u001b[0m\u001b[0;34m\u001b[0m\u001b[0;34m\u001b[0m\u001b[0;34m\u001b[0m\u001b[0m\n\u001b[0;32m--> 144\u001b[0;31m         \u001b[0matt_Qvals\u001b[0m \u001b[0;34m=\u001b[0m \u001b[0mnp\u001b[0m\u001b[0;34m.\u001b[0m\u001b[0mzeros_like\u001b[0m\u001b[0;34m(\u001b[0m\u001b[0matt_values\u001b[0m\u001b[0;34m)\u001b[0m\u001b[0;34m\u001b[0m\u001b[0;34m\u001b[0m\u001b[0m\n\u001b[0m\u001b[1;32m    145\u001b[0m         \u001b[0matt_Qvals\u001b[0m \u001b[0;34m+=\u001b[0m \u001b[0mr\u001b[0m\u001b[0;34m\u001b[0m\u001b[0;34m\u001b[0m\u001b[0m\n\u001b[1;32m    146\u001b[0m \u001b[0;34m\u001b[0m\u001b[0m\n",
      "\u001b[0;32m<__array_function__ internals>\u001b[0m in \u001b[0;36mzeros_like\u001b[0;34m(*args, **kwargs)\u001b[0m\n",
      "\u001b[0;32m~/opt/anaconda3/lib/python3.8/site-packages/numpy/core/numeric.py\u001b[0m in \u001b[0;36mzeros_like\u001b[0;34m(a, dtype, order, subok, shape)\u001b[0m\n\u001b[1;32m    135\u001b[0m \u001b[0;34m\u001b[0m\u001b[0m\n\u001b[1;32m    136\u001b[0m     \"\"\"\n\u001b[0;32m--> 137\u001b[0;31m     \u001b[0mres\u001b[0m \u001b[0;34m=\u001b[0m \u001b[0mempty_like\u001b[0m\u001b[0;34m(\u001b[0m\u001b[0ma\u001b[0m\u001b[0;34m,\u001b[0m \u001b[0mdtype\u001b[0m\u001b[0;34m=\u001b[0m\u001b[0mdtype\u001b[0m\u001b[0;34m,\u001b[0m \u001b[0morder\u001b[0m\u001b[0;34m=\u001b[0m\u001b[0morder\u001b[0m\u001b[0;34m,\u001b[0m \u001b[0msubok\u001b[0m\u001b[0;34m=\u001b[0m\u001b[0msubok\u001b[0m\u001b[0;34m,\u001b[0m \u001b[0mshape\u001b[0m\u001b[0;34m=\u001b[0m\u001b[0mshape\u001b[0m\u001b[0;34m)\u001b[0m\u001b[0;34m\u001b[0m\u001b[0;34m\u001b[0m\u001b[0m\n\u001b[0m\u001b[1;32m    138\u001b[0m     \u001b[0;31m# needed instead of a 0 to get same result as zeros for for string dtypes\u001b[0m\u001b[0;34m\u001b[0m\u001b[0;34m\u001b[0m\u001b[0;34m\u001b[0m\u001b[0m\n\u001b[1;32m    139\u001b[0m     \u001b[0mz\u001b[0m \u001b[0;34m=\u001b[0m \u001b[0mzeros\u001b[0m\u001b[0;34m(\u001b[0m\u001b[0;36m1\u001b[0m\u001b[0;34m,\u001b[0m \u001b[0mdtype\u001b[0m\u001b[0;34m=\u001b[0m\u001b[0mres\u001b[0m\u001b[0;34m.\u001b[0m\u001b[0mdtype\u001b[0m\u001b[0;34m)\u001b[0m\u001b[0;34m\u001b[0m\u001b[0;34m\u001b[0m\u001b[0m\n",
      "\u001b[0;32m<__array_function__ internals>\u001b[0m in \u001b[0;36mempty_like\u001b[0;34m(*args, **kwargs)\u001b[0m\n",
      "\u001b[0;32m~/opt/anaconda3/lib/python3.8/site-packages/torch/tensor.py\u001b[0m in \u001b[0;36m__array__\u001b[0;34m(self, dtype)\u001b[0m\n\u001b[1;32m    619\u001b[0m             \u001b[0;32mreturn\u001b[0m \u001b[0mhandle_torch_function\u001b[0m\u001b[0;34m(\u001b[0m\u001b[0mTensor\u001b[0m\u001b[0;34m.\u001b[0m\u001b[0m__array__\u001b[0m\u001b[0;34m,\u001b[0m \u001b[0;34m(\u001b[0m\u001b[0mself\u001b[0m\u001b[0;34m,\u001b[0m\u001b[0;34m)\u001b[0m\u001b[0;34m,\u001b[0m \u001b[0mself\u001b[0m\u001b[0;34m,\u001b[0m \u001b[0mdtype\u001b[0m\u001b[0;34m=\u001b[0m\u001b[0mdtype\u001b[0m\u001b[0;34m)\u001b[0m\u001b[0;34m\u001b[0m\u001b[0;34m\u001b[0m\u001b[0m\n\u001b[1;32m    620\u001b[0m         \u001b[0;32mif\u001b[0m \u001b[0mdtype\u001b[0m \u001b[0;32mis\u001b[0m \u001b[0;32mNone\u001b[0m\u001b[0;34m:\u001b[0m\u001b[0;34m\u001b[0m\u001b[0;34m\u001b[0m\u001b[0m\n\u001b[0;32m--> 621\u001b[0;31m             \u001b[0;32mreturn\u001b[0m \u001b[0mself\u001b[0m\u001b[0;34m.\u001b[0m\u001b[0mnumpy\u001b[0m\u001b[0;34m(\u001b[0m\u001b[0;34m)\u001b[0m\u001b[0;34m\u001b[0m\u001b[0;34m\u001b[0m\u001b[0m\n\u001b[0m\u001b[1;32m    622\u001b[0m         \u001b[0;32melse\u001b[0m\u001b[0;34m:\u001b[0m\u001b[0;34m\u001b[0m\u001b[0;34m\u001b[0m\u001b[0m\n\u001b[1;32m    623\u001b[0m             \u001b[0;32mreturn\u001b[0m \u001b[0mself\u001b[0m\u001b[0;34m.\u001b[0m\u001b[0mnumpy\u001b[0m\u001b[0;34m(\u001b[0m\u001b[0;34m)\u001b[0m\u001b[0;34m.\u001b[0m\u001b[0mastype\u001b[0m\u001b[0;34m(\u001b[0m\u001b[0mdtype\u001b[0m\u001b[0;34m,\u001b[0m \u001b[0mcopy\u001b[0m\u001b[0;34m=\u001b[0m\u001b[0;32mFalse\u001b[0m\u001b[0;34m)\u001b[0m\u001b[0;34m\u001b[0m\u001b[0;34m\u001b[0m\u001b[0m\n",
      "\u001b[0;31mRuntimeError\u001b[0m: Can't call numpy() on Tensor that requires grad. Use tensor.detach().numpy() instead."
     ]
    }
   ],
   "source": [
    "attacker_ac, defender_ac = a2c(g, iters = 20000, t_max = 10)\n",
    "\n",
    "attacker_fname = os.path.join('checkpoint', 'att_temp.pth.tar')\n",
    "torch.save(attacker_ac.state_dict(), attacker_fname)\n",
    "\n",
    "defender_fname = os.path.join('checkpoint', 'def_temp.pth.tar')\n",
    "torch.save(defender_ac.state_dict(), defender_fname)"
   ]
  },
  {
   "cell_type": "code",
   "execution_count": null,
   "metadata": {},
   "outputs": [],
   "source": []
  }
 ],
 "metadata": {
  "kernelspec": {
   "display_name": "Python 3",
   "language": "python",
   "name": "python3"
  },
  "language_info": {
   "codemirror_mode": {
    "name": "ipython",
    "version": 3
   },
   "file_extension": ".py",
   "mimetype": "text/x-python",
   "name": "python",
   "nbconvert_exporter": "python",
   "pygments_lexer": "ipython3",
   "version": "3.8.8"
  }
 },
 "nbformat": 4,
 "nbformat_minor": 2
}
