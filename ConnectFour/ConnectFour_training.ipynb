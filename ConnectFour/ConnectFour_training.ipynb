{
 "cells": [
  {
   "cell_type": "markdown",
   "metadata": {},
   "source": [
    "Initial game setup. All game logic is in ConnectFourGame.py"
   ]
  },
  {
   "cell_type": "code",
   "execution_count": 1,
   "metadata": {},
   "outputs": [],
   "source": [
    "from Connect4Game import C4Game\n",
    "\n",
    "g = C4Game(height=6, width=7, win_length=4)"
   ]
  },
  {
   "cell_type": "markdown",
   "metadata": {},
   "source": [
    "Below is the training procedure for AlphaZero and AlphaZero-ES.\n",
    "- The first cell is imports and the hyperparameters\n",
    "- Second cell is actual training\n",
    "\n",
    "AlphaZero code is modified from  \n",
    "\n",
    "https://github.com/suragnair/alpha-zero-general\n",
    "\n",
    "For original AlphaZero paper, see  \n",
    "\n",
    "https://arxiv.org/abs/1712.01815\n",
    "\n"
   ]
  },
  {
   "cell_type": "code",
   "execution_count": 2,
   "metadata": {},
   "outputs": [],
   "source": [
    "from C4_AZ import *\n",
    "from mcts_c4 import MCTS\n",
    "from C4_net import NNetWrapper as wrapper\n",
    "import time\n",
    "from utils import *\n",
    "\n",
    "args = dotdict({\n",
    "    'numEps': 5,        # Number of complete self-play games to simulate during a new iteration.\n",
    "    'numMCTSSims': 20,  # Number of games moves for MCTS to simulate.\n",
    "    'cpuct': 1,         # hyperparameter for MCTS\n",
    "    'batch_size' : 8,  # number of samples to take for AZ-ES, N in paper\n",
    "    'elite_size' : 4,  # elite size for AZ-ES, K in paper\n",
    "})"
   ]
  },
  {
   "cell_type": "code",
   "execution_count": 4,
   "metadata": {},
   "outputs": [
    {
     "name": "stdout",
     "output_type": "stream",
     "text": [
      "3\n",
      "12.459793090820312\n",
      "Checkpoint Directory exists! \n"
     ]
    }
   ],
   "source": [
    "def train_AZ(g, nnet, use_gradient = True, t_max = 3600):\n",
    "    \"\"\"\n",
    "    training method for AlphaZero and AlphaZero-ES\n",
    "    g: Game to train on \n",
    "    nnet: neural network to train\n",
    "    grad: If true, train with gradient/traditional AZ, otherwise use AlphaZero-ES\n",
    "    t_max: total training time, 3600 in paper\n",
    "    \"\"\"\n",
    "    \n",
    "    # set up neural network, MCTS, and AlphaZero objects\n",
    "    mcts = MCTS(g, nnet, args)\n",
    "    AZ = AlphaZero(g, nnet, mcts, args)\n",
    "\n",
    "    # training loop\n",
    "    start = time.time()\n",
    "    iterations = 0\n",
    "    \n",
    "    while (time.time() - start) < t_max:\n",
    "        iterations += 1\n",
    "        if use_gradient:\n",
    "            AZ.train_gradient()\n",
    "        else:\n",
    "            AZ.train_es()\n",
    "\n",
    "    # print number of iterations and total training time\n",
    "    print(iterations)\n",
    "    print(time.time() - start)\n",
    "\n",
    "\n",
    "    # save attack and defense neural networks\n",
    "    # they will be stored in folder 'checkpoint'\n",
    "    # don't overwrite what is already there unless you want to train new models\n",
    "    nnet.save_checkpoint(filename = 'temp.pth.tar')\n",
    "\n",
    "nnet = wrapper(g)\n",
    "train_AZ(g, nnet, use_gradient = True, t_max = 10)"
   ]
  },
  {
   "cell_type": "markdown",
   "metadata": {},
   "source": [
    "ES methods  \n",
    "\n",
    "Parameters (except for training time) are same as in paper  \n",
    "episode_count is G = 50  \n",
    "batch_size is N = 8  \n",
    "elite_size is K = 4  \n",
    "iters is the maximum number of iterations to use, we want to cap by time so we set it to a very large number\n",
    "\n",
    "\n",
    "- first cell is imports\n",
    "- second cell is (1+1)-ES\n",
    "- third cell is CEM\n",
    "\n",
    "models are saved to folder 'checkpoint'"
   ]
  },
  {
   "cell_type": "code",
   "execution_count": 7,
   "metadata": {},
   "outputs": [],
   "source": [
    "from C4_es import *\n",
    "import os\n",
    "\n",
    "# training time\n",
    "t_max = 10"
   ]
  },
  {
   "cell_type": "code",
   "execution_count": 9,
   "metadata": {},
   "outputs": [
    {
     "name": "stdout",
     "output_type": "stream",
     "text": [
      "Finished in 18.0 seconds and 2 iterations\n"
     ]
    }
   ],
   "source": [
    "mu, _ = oneone(g, iters = 100000000, episode_count = 50, temp = 1, t_max = t_max)\n",
    "\n",
    "fname= os.path.join('checkpoint', 'temp.pth.tar')\n",
    "torch.save(mu.state_dict(), fname)"
   ]
  },
  {
   "cell_type": "code",
   "execution_count": 10,
   "metadata": {},
   "outputs": [
    {
     "name": "stdout",
     "output_type": "stream",
     "text": [
      "Finished in 49.0 seconds and 1 iterations\n"
     ]
    }
   ],
   "source": [
    "mu, _ = cem(g, iters = 100000, batch_size = 8, elite_size = 4, episode_count = 50, weight_type = 'log', temp = 1, t_max = t_max)\n",
    "\n",
    "fname= os.path.join('checkpoint', 'temp.pth.tar')\n",
    "torch.save(mu.state_dict(), fname)"
   ]
  },
  {
   "cell_type": "code",
   "execution_count": 14,
   "metadata": {},
   "outputs": [],
   "source": [
    "from C4_a2c import *\n",
    "import os"
   ]
  },
  {
   "cell_type": "code",
   "execution_count": 15,
   "metadata": {},
   "outputs": [
    {
     "name": "stdout",
     "output_type": "stream",
     "text": [
      "Finished in 10.0 seconds and 37 iterations\n"
     ]
    }
   ],
   "source": [
    "actor_critic = a2c(g, iters = 20000, t_max = 10)\n",
    "\n",
    "fname= os.path.join('checkpoint', 'temp.pth.tar')\n",
    "torch.save(actor_critic.state_dict(), fname)"
   ]
  },
  {
   "cell_type": "code",
   "execution_count": null,
   "metadata": {},
   "outputs": [],
   "source": []
  }
 ],
 "metadata": {
  "kernelspec": {
   "display_name": "Python 3",
   "language": "python",
   "name": "python3"
  },
  "language_info": {
   "codemirror_mode": {
    "name": "ipython",
    "version": 3
   },
   "file_extension": ".py",
   "mimetype": "text/x-python",
   "name": "python",
   "nbconvert_exporter": "python",
   "pygments_lexer": "ipython3",
   "version": "3.7.1"
  }
 },
 "nbformat": 4,
 "nbformat_minor": 2
}
