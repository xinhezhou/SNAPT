{
 "cells": [
  {
   "cell_type": "markdown",
   "metadata": {},
   "source": [
    "This file contains the methods to test the different trained networks against each other"
   ]
  },
  {
   "cell_type": "code",
   "execution_count": 1,
   "metadata": {},
   "outputs": [],
   "source": [
    "from Connect4Game import C4Game\n",
    "\n",
    "g = C4Game(height=6, width=7, win_length=4)"
   ]
  },
  {
   "cell_type": "markdown",
   "metadata": {},
   "source": [
    "Set up randomized attack agent which returns each action with uniform probability"
   ]
  },
  {
   "cell_type": "code",
   "execution_count": 26,
   "metadata": {},
   "outputs": [],
   "source": [
    "class RandomAgent():\n",
    "    def __init__(self, g):\n",
    "        self.g = g\n",
    "        \n",
    "    def forward(self, board, temp = 1):\n",
    "        return torch.FloatTensor([1] * self.g.width), 0\n",
    "    \n",
    "    def getActionProb(self, board, temp = 1):\n",
    "        return self.forward(board)[0].detach().numpy()\n"
   ]
  },
  {
   "cell_type": "markdown",
   "metadata": {},
   "source": [
    "load all trained networks"
   ]
  },
  {
   "cell_type": "code",
   "execution_count": 27,
   "metadata": {},
   "outputs": [],
   "source": [
    "import os\n",
    "from C4_net import C4_net\n",
    "import torch\n",
    "from C4_es import *\n",
    "folder = 'checkpoint'\n",
    "\n",
    "\n",
    "names = ['a2c', 'az_es', 'az_grad', 'cem', 'oneone', 'random']\n",
    "filenames = {\n",
    "    'a2c' : 'a2c_C4_check.pth.tar', \n",
    "    'az_es' : 'AZ_ES_C4_check.pth.tar', \n",
    "    'az_grad' : 'AZ_C4_check.pth.tar', \n",
    "    'cem' : 'cem_C4_check.pth.tar', \n",
    "    'oneone' : 'oneone_C4_check.pth.tar'\n",
    "}\n",
    "\n",
    "\n",
    "players = {}\n",
    "\n",
    "for name in filenames.keys():\n",
    "    fname = filenames[name]\n",
    "    loc = os.path.join(folder, fname)\n",
    "    \n",
    "    players[name] = C4_net(g)\n",
    "    checkpoint = torch.load(loc)\n",
    "    if 'AZ' in fname:\n",
    "        players[name].load_state_dict(checkpoint['state_dict'])\n",
    "        \n",
    "    else:\n",
    "        players[name].load_state_dict(checkpoint)\n",
    "\n",
    "players['random'] = RandomAgent(g)"
   ]
  },
  {
   "cell_type": "code",
   "execution_count": 28,
   "metadata": {},
   "outputs": [],
   "source": [
    "# total number of games for each pairing to play, original was 100\n",
    "TOTAL_GAMES = 1"
   ]
  },
  {
   "cell_type": "markdown",
   "metadata": {},
   "source": [
    "Play matches using only neural networks"
   ]
  },
  {
   "cell_type": "code",
   "execution_count": 30,
   "metadata": {},
   "outputs": [
    {
     "name": "stdout",
     "output_type": "stream",
     "text": [
      "a2c\n",
      "0, 1, 1, 0, 1, 1, \n",
      "az_es\n",
      "1, 0, 1, 0, 1, 1, \n",
      "az_grad\n",
      "0, 0, 1, 1, 0, 0, \n",
      "cem\n",
      "0, 0, 0, 0, 1, 0, \n",
      "oneone\n",
      "1, 0, 1, 0, 1, 0, \n",
      "random\n",
      "1, 1, 0, 1, 1, 1, \n"
     ]
    }
   ],
   "source": [
    "wins = []\n",
    "count = 0\n",
    "for p1_name in players.keys():\n",
    "    player1 = players[p1_name]\n",
    "    print(p1_name)\n",
    "    count += 1\n",
    "    player1_wins = []\n",
    "    for p2_name in players.keys():\n",
    "        player2 = players[p2_name]\n",
    "        win_count = play_games(g, total = TOTAL_GAMES, player1 = player1, player2 = player2, temp = 1)\n",
    "        player1_wins.append(win_count)\n",
    "        print(win_count, end = ', ')\n",
    "    print()\n",
    "    wins.append(player1_wins)\n"
   ]
  },
  {
   "cell_type": "markdown",
   "metadata": {},
   "source": [
    "Store win counts as csv"
   ]
  },
  {
   "cell_type": "code",
   "execution_count": 31,
   "metadata": {},
   "outputs": [
    {
     "data": {
      "text/html": [
       "<div>\n",
       "<style scoped>\n",
       "    .dataframe tbody tr th:only-of-type {\n",
       "        vertical-align: middle;\n",
       "    }\n",
       "\n",
       "    .dataframe tbody tr th {\n",
       "        vertical-align: top;\n",
       "    }\n",
       "\n",
       "    .dataframe thead th {\n",
       "        text-align: right;\n",
       "    }\n",
       "</style>\n",
       "<table border=\"1\" class=\"dataframe\">\n",
       "  <thead>\n",
       "    <tr style=\"text-align: right;\">\n",
       "      <th></th>\n",
       "      <th>a2c</th>\n",
       "      <th>az_es</th>\n",
       "      <th>az_grad</th>\n",
       "      <th>cem</th>\n",
       "      <th>oneone</th>\n",
       "      <th>random</th>\n",
       "    </tr>\n",
       "  </thead>\n",
       "  <tbody>\n",
       "    <tr>\n",
       "      <th>a2c</th>\n",
       "      <td>0</td>\n",
       "      <td>1</td>\n",
       "      <td>0</td>\n",
       "      <td>0</td>\n",
       "      <td>1</td>\n",
       "      <td>1</td>\n",
       "    </tr>\n",
       "    <tr>\n",
       "      <th>az_es</th>\n",
       "      <td>1</td>\n",
       "      <td>0</td>\n",
       "      <td>0</td>\n",
       "      <td>0</td>\n",
       "      <td>0</td>\n",
       "      <td>1</td>\n",
       "    </tr>\n",
       "    <tr>\n",
       "      <th>az_grad</th>\n",
       "      <td>1</td>\n",
       "      <td>1</td>\n",
       "      <td>1</td>\n",
       "      <td>0</td>\n",
       "      <td>1</td>\n",
       "      <td>0</td>\n",
       "    </tr>\n",
       "    <tr>\n",
       "      <th>cem</th>\n",
       "      <td>0</td>\n",
       "      <td>0</td>\n",
       "      <td>1</td>\n",
       "      <td>0</td>\n",
       "      <td>0</td>\n",
       "      <td>1</td>\n",
       "    </tr>\n",
       "    <tr>\n",
       "      <th>oneone</th>\n",
       "      <td>1</td>\n",
       "      <td>1</td>\n",
       "      <td>0</td>\n",
       "      <td>1</td>\n",
       "      <td>1</td>\n",
       "      <td>1</td>\n",
       "    </tr>\n",
       "    <tr>\n",
       "      <th>random</th>\n",
       "      <td>1</td>\n",
       "      <td>1</td>\n",
       "      <td>0</td>\n",
       "      <td>0</td>\n",
       "      <td>0</td>\n",
       "      <td>1</td>\n",
       "    </tr>\n",
       "  </tbody>\n",
       "</table>\n",
       "</div>"
      ],
      "text/plain": [
       "         a2c  az_es  az_grad  cem  oneone  random\n",
       "a2c        0      1        0    0       1       1\n",
       "az_es      1      0        0    0       0       1\n",
       "az_grad    1      1        1    0       1       0\n",
       "cem        0      0        1    0       0       1\n",
       "oneone     1      1        0    1       1       1\n",
       "random     1      1        0    0       0       1"
      ]
     },
     "execution_count": 31,
     "metadata": {},
     "output_type": "execute_result"
    }
   ],
   "source": [
    "import pandas as pd\n",
    "\n",
    "nnet_wins = pd.DataFrame(wins, columns = names, index = names)\n",
    "\n",
    "nnet_wins = nnet_wins.transpose()\n",
    "\n",
    "nnet_wins.to_csv(r'nnet_wins.csv')\n",
    "\n",
    "nnet_wins"
   ]
  },
  {
   "cell_type": "markdown",
   "metadata": {},
   "source": [
    "Play matches using Monte Carlo tree search\n",
    "\n",
    "this can take a while"
   ]
  },
  {
   "cell_type": "code",
   "execution_count": 37,
   "metadata": {},
   "outputs": [
    {
     "name": "stdout",
     "output_type": "stream",
     "text": [
      "a2c\n",
      "0, 0, 0, 1, 1, 1, \n",
      "az_es\n",
      "1, 1, 1, 0, 1, 1, \n",
      "az_grad\n",
      "0, 1, 0, 1, 1, 1, \n",
      "cem\n",
      "0, 0, 1, 0, 0, 0, \n",
      "oneone\n",
      "0, 0, 1, 0, 0, 0, \n",
      "random\n",
      "1, 0, 1, 1, 0, 1, \n"
     ]
    }
   ],
   "source": [
    "from mcts_c4 import MCTS\n",
    "from C4_net import NNetWrapper as wrapper\n",
    "\n",
    "args = dotdict({\n",
    "    'numEps': 5,        # Number of complete self-play games to simulate during a new iteration.\n",
    "    'numMCTSSims': 20,  # Number of games moves for MCTS to simulate.\n",
    "    'cpuct': 1,         # hyperparameter for MCTS\n",
    "    'batch_size' : 8,  # number of samples to take for AZ-ES, N in paper\n",
    "    'elite_size' : 4,  # elite size for AZ-ES, K in paper\n",
    "})\n",
    "\n",
    "wins = []\n",
    "count = 0\n",
    "\n",
    "for p1_name in players.keys():\n",
    "    player1 = players[p1_name]\n",
    "    print(p1_name)\n",
    "    count += 1\n",
    "    player1_wins = []\n",
    "    for p2_name in players.keys():\n",
    "        player2 = players[p2_name]\n",
    "        nnet_wrapper1 = wrapper(g)\n",
    "        nnet_wrapper2 = wrapper(g)\n",
    "        \n",
    "        if type(player1) != type(RandomAgent(g)):\n",
    "            nnet_wrapper1.nnet = player1\n",
    "            \n",
    "        if type(player2) != type(RandomAgent(g)):\n",
    "            nnet_wrapper2.nnet = player2\n",
    "        \n",
    "        mcts1 = MCTS(g, nnet_wrapper1, args)\n",
    "        mcts2 = MCTS(g, nnet_wrapper2, args)\n",
    "        \n",
    "        win_count = play_games(g, total = TOTAL_GAMES, player1 = mcts1, player2 = mcts2, temp = 1)\n",
    "                \n",
    "        print(win_count, end = ', ')\n",
    "        player1_wins.append(win_count)\n",
    "        \n",
    "    print()\n",
    "    wins.append(player1_wins)"
   ]
  },
  {
   "cell_type": "code",
   "execution_count": 38,
   "metadata": {},
   "outputs": [
    {
     "data": {
      "text/html": [
       "<div>\n",
       "<style scoped>\n",
       "    .dataframe tbody tr th:only-of-type {\n",
       "        vertical-align: middle;\n",
       "    }\n",
       "\n",
       "    .dataframe tbody tr th {\n",
       "        vertical-align: top;\n",
       "    }\n",
       "\n",
       "    .dataframe thead th {\n",
       "        text-align: right;\n",
       "    }\n",
       "</style>\n",
       "<table border=\"1\" class=\"dataframe\">\n",
       "  <thead>\n",
       "    <tr style=\"text-align: right;\">\n",
       "      <th></th>\n",
       "      <th>a2c</th>\n",
       "      <th>az_es</th>\n",
       "      <th>az_grad</th>\n",
       "      <th>cem</th>\n",
       "      <th>oneone</th>\n",
       "      <th>random</th>\n",
       "    </tr>\n",
       "  </thead>\n",
       "  <tbody>\n",
       "    <tr>\n",
       "      <th>a2c</th>\n",
       "      <td>0</td>\n",
       "      <td>1</td>\n",
       "      <td>0</td>\n",
       "      <td>0</td>\n",
       "      <td>0</td>\n",
       "      <td>1</td>\n",
       "    </tr>\n",
       "    <tr>\n",
       "      <th>az_es</th>\n",
       "      <td>0</td>\n",
       "      <td>1</td>\n",
       "      <td>1</td>\n",
       "      <td>0</td>\n",
       "      <td>0</td>\n",
       "      <td>0</td>\n",
       "    </tr>\n",
       "    <tr>\n",
       "      <th>az_grad</th>\n",
       "      <td>0</td>\n",
       "      <td>1</td>\n",
       "      <td>0</td>\n",
       "      <td>1</td>\n",
       "      <td>1</td>\n",
       "      <td>1</td>\n",
       "    </tr>\n",
       "    <tr>\n",
       "      <th>cem</th>\n",
       "      <td>1</td>\n",
       "      <td>0</td>\n",
       "      <td>1</td>\n",
       "      <td>0</td>\n",
       "      <td>0</td>\n",
       "      <td>1</td>\n",
       "    </tr>\n",
       "    <tr>\n",
       "      <th>oneone</th>\n",
       "      <td>1</td>\n",
       "      <td>1</td>\n",
       "      <td>1</td>\n",
       "      <td>0</td>\n",
       "      <td>0</td>\n",
       "      <td>0</td>\n",
       "    </tr>\n",
       "    <tr>\n",
       "      <th>random</th>\n",
       "      <td>1</td>\n",
       "      <td>1</td>\n",
       "      <td>1</td>\n",
       "      <td>0</td>\n",
       "      <td>0</td>\n",
       "      <td>1</td>\n",
       "    </tr>\n",
       "  </tbody>\n",
       "</table>\n",
       "</div>"
      ],
      "text/plain": [
       "         a2c  az_es  az_grad  cem  oneone  random\n",
       "a2c        0      1        0    0       0       1\n",
       "az_es      0      1        1    0       0       0\n",
       "az_grad    0      1        0    1       1       1\n",
       "cem        1      0        1    0       0       1\n",
       "oneone     1      1        1    0       0       0\n",
       "random     1      1        1    0       0       1"
      ]
     },
     "execution_count": 38,
     "metadata": {},
     "output_type": "execute_result"
    }
   ],
   "source": [
    "mcts_wins = pd.DataFrame(wins, columns = names, index = names)\n",
    "\n",
    "mcts_wins = mcts_wins.transpose()\n",
    "\n",
    "mcts_wins.to_csv(r'mcts_wins.csv')\n",
    "\n",
    "mcts_wins"
   ]
  },
  {
   "cell_type": "code",
   "execution_count": null,
   "metadata": {},
   "outputs": [],
   "source": []
  }
 ],
 "metadata": {
  "kernelspec": {
   "display_name": "Python 3",
   "language": "python",
   "name": "python3"
  },
  "language_info": {
   "codemirror_mode": {
    "name": "ipython",
    "version": 3
   },
   "file_extension": ".py",
   "mimetype": "text/x-python",
   "name": "python",
   "nbconvert_exporter": "python",
   "pygments_lexer": "ipython3",
   "version": "3.7.1"
  }
 },
 "nbformat": 4,
 "nbformat_minor": 2
}
